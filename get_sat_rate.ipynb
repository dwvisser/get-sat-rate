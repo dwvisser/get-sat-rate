{
 "cells": [
  {
   "cell_type": "code",
   "execution_count": 1,
   "id": "ac2c9d10-7861-4c6b-af14-10f6ae60d9d1",
   "metadata": {},
   "outputs": [
    {
     "name": "stdout",
     "output_type": "stream",
     "text": [
      "2022-02-10 13:43:49.276761\n",
      "\n",
      "1 BTC = 45103.5255 USD\n",
      "25¢ ≈ 554.3 SAT\n",
      "25¢/hour ≈ 9 SAT/minute\n"
     ]
    }
   ],
   "source": [
    "run get_sat_rate.py"
   ]
  },
  {
   "cell_type": "code",
   "execution_count": null,
   "id": "e2edf795-54d6-4612-9b4d-068113343291",
   "metadata": {},
   "outputs": [],
   "source": []
  }
 ],
 "metadata": {
  "kernelspec": {
   "display_name": "Python 3 (ipykernel)",
   "language": "python",
   "name": "python3"
  },
  "language_info": {
   "codemirror_mode": {
    "name": "ipython",
    "version": 3
   },
   "file_extension": ".py",
   "mimetype": "text/x-python",
   "name": "python",
   "nbconvert_exporter": "python",
   "pygments_lexer": "ipython3",
   "version": "3.9.7"
  }
 },
 "nbformat": 4,
 "nbformat_minor": 5
}

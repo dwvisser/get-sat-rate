{
 "cells": [
  {
   "cell_type": "markdown",
   "id": "8c7679a9-b813-4eca-ab40-9e56a293c335",
   "metadata": {},
   "source": [
    "This notebook uses the *bitcoin_value* package (`pip install bitcoin-value`), to\n",
    "do a useful calculation for me. I like to use the [Value 4 Value](https://podcastindex.org/podcast/value4value)\n",
    "to pay publishers of podcasts I enjoy by the listening minute. I am of limited means,\n",
    "so I like to compensate all the podcasters I listen to at an approximate rate of $1/month.\n",
    "Typical podcasts I listen to publish a one hour-long episode per week. Therefore,\n",
    "I have settled on a rate of 25¢ per hour of listening. Given that the value of a BTC\n",
    "fluctuates all the time, this notebook quickly tells me what SAT (1 SAT == 1E-8 BTC)\n",
    "rate gets closest to this."
   ]
  },
  {
   "cell_type": "code",
   "execution_count": 1,
   "id": "ac2c9d10-7861-4c6b-af14-10f6ae60d9d1",
   "metadata": {},
   "outputs": [
    {
     "name": "stdout",
     "output_type": "stream",
     "text": [
      "2022-02-10 14:46:07.287072\n",
      "\n",
      "1 BTC = 44735.3482 USD\n",
      "25¢ ≈ 558.8 SAT\n",
      "25¢/hour ≈ 9 SAT/minute\n"
     ]
    }
   ],
   "source": [
    "run get_sat_rate.py"
   ]
  }
 ],
 "metadata": {
  "kernelspec": {
   "display_name": "Python 3 (ipykernel)",
   "language": "python",
   "name": "python3"
  },
  "language_info": {
   "codemirror_mode": {
    "name": "ipython",
    "version": 3
   },
   "file_extension": ".py",
   "mimetype": "text/x-python",
   "name": "python",
   "nbconvert_exporter": "python",
   "pygments_lexer": "ipython3",
   "version": "3.9.7"
  }
 },
 "nbformat": 4,
 "nbformat_minor": 5
}
